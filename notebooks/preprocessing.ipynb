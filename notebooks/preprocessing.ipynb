{
 "cells": [
  {
   "cell_type": "code",
   "execution_count": 4,
   "id": "0ba5e220-81ab-49fb-9432-174b6a27c81f",
   "metadata": {},
   "outputs": [],
   "source": [
    "import cv2\n",
    "import matplotlib.pyplot as py\n",
    "import os\n",
    "from keras.preprocessing.image import img_to_array,load_img"
   ]
  },
  {
   "cell_type": "code",
   "execution_count": 5,
   "id": "b05c76a1-f3c9-449e-8712-8630ef90ca35",
   "metadata": {},
   "outputs": [],
   "source": [
    "path1=r\"D:\\data_deep\\Burglary\"\n",
    "path2=r\"D:\\data_deep\\normal\"\n",
    "path3=r\"D:\\data_deep\\shoplifiting\"\n",
    "path4=r\"D:\\data_deep\\VAndaslim\""
   ]
  },
  {
   "cell_type": "code",
   "execution_count": 6,
   "id": "017e8033-4de1-4a60-bd43-31d505eb2345",
   "metadata": {},
   "outputs": [],
   "source": [
    "file1=os.listdir(path1)\n",
    "file2=os.listdir(path2)\n",
    "file3=os.listdir(path3)\n",
    "file4=os.listdir(path4)"
   ]
  },
  {
   "cell_type": "code",
   "execution_count": 10,
   "id": "9c9f18c3-28da-4ad3-a1c7-124056f95416",
   "metadata": {},
   "outputs": [
    {
     "data": {
      "image/png": "[encoded data removed]",
      "text/plain": [
       "<Figure size 640x480 with 1 Axes>"
      ]
     },
     "metadata": {},
     "output_type": "display_data"
    }
   ],
   "source": [
    "#py.hist(len(file1))\n",
    "py.bar([\"Burglary\",\"normal\",\"shoplifiting\",\"Vandalism\"],[len(file1),len(file2),len(file3),len(file4)])\n",
    "#py.hist(len(file3))\n",
    "#py.hist(len(file4))\n",
    "py.show()"
   ]
  },
  {
   "cell_type": "code",
   "execution_count": 12,
   "id": "2ec32a6b-b388-4cf0-b1e9-5d2a8a244ae7",
   "metadata": {},
   "outputs": [],
   "source": [
    "x_data=[]\n",
    "y_data=[]\n",
    "def fun(path,file,y_label):\n",
    "    for i in range(len(file)):\n",
    "        img=cv2.imread(path+\"\\\\\"+file[i])\n",
    "        img=cv2.resize(img,(224,224))\n",
    "        #gray_image = cv2.cvtColor(img, cv2.COLOR_BGR2GRAY)\n",
    "        #edges = cv2.Canny(gray, 150, 300)\n",
    "        array=img_to_array(img)\n",
    "        x_transform=array.astype(\"float32\")/255\n",
    "        x_data.append(x_transform)\n",
    "        y_data.append(y_label)"
   ]
  },
  {
   "cell_type": "code",
   "execution_count": 14,
   "id": "2e6a009a-96f1-40fc-b426-ada76e8d1d56",
   "metadata": {},
   "outputs": [],
   "source": [
    "fun(path1,file1,[1,0,0,0])\n",
    "fun(path2,file2,[0,1,0,0])\n",
    "fun(path3,file3,[0,0,1,0])\n",
    "fun(path4,file4,[0,0,0,1])"
   ]
  },
  {
   "cell_type": "code",
   "execution_count": 16,
   "id": "13af858f-54ad-40aa-953e-7276530d13f0",
   "metadata": {},
   "outputs": [],
   "source": [
    "import numpy as np\n",
    "x=np.array(x_data)\n",
    "y=np.array(y_data)"
   ]
  },
  {
   "cell_type": "code",
   "execution_count": 20,
   "id": "e66abd29-b411-4dd0-a1ce-49a850339d21",
   "metadata": {},
   "outputs": [],
   "source": [
    "from sklearn.model_selection import train_test_split\n",
    "\n",
    "# Assuming x_data and y_data are your full dataset\n",
    "x_train, x_temp, y_train, y_temp = train_test_split(x, y, test_size=0.2, random_state=42)\n",
    "x_val, x_test, y_val, y_test = train_test_split(x_temp, y_temp, test_size=0.5, random_state=42)"
   ]
  },
  {
   "cell_type": "code",
   "execution_count": 23,
   "id": "26aa9d0f-067e-4f13-9565-77bdd9f8b2b9",
   "metadata": {},
   "outputs": [],
   "source": [
    "np.save(\"x_train.npy\",x)\n",
    "np.save(\"y_train.npy\",y)\n",
    "np.save(\"x_test.npy\",x_test)\n",
    "np.save(\"y_test.npy\",y_test)\n",
    "np.save(\"x_val.npy\",x_val)\n",
    "np.save(\"y_val.npy\",y_val)"
   ]
  },
  {
   "cell_type": "code",
   "execution_count": null,
   "id": "87e1c6b9-2919-4f53-9df3-fd86ce5419d8",
   "metadata": {},
   "outputs": [],
   "source": []
  }
 ],
 "metadata": {
  "kernelspec": {
   "display_name": "Python [conda env:base] *",
   "language": "python",
   "name": "conda-base-py"
  },
  "language_info": {
   "codemirror_mode": {
    "name": "ipython",
    "version": 3
   },
   "file_extension": ".py",
   "mimetype": "text/x-python",
   "name": "python",
   "nbconvert_exporter": "python",
   "pygments_lexer": "ipython3",
   "version": "3.12.7"
  }
 },
 "nbformat": 4,
 "nbformat_minor": 5
}
